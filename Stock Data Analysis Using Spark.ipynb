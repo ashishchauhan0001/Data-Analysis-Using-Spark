{
 "cells": [
  {
   "cell_type": "markdown",
   "id": "e8859be6",
   "metadata": {},
   "source": [
    "# Importing Required Libraries\n"
   ]
  },
  {
   "cell_type": "code",
   "execution_count": 1,
   "id": "68a991c0",
   "metadata": {},
   "outputs": [
    {
     "name": "stdout",
     "output_type": "stream",
     "text": [
      "Requirement already satisfied: pyspark in c:\\users\\asch2\\anaconda3\\lib\\site-packages (3.5.1)\n",
      "Requirement already satisfied: py4j==0.10.9.7 in c:\\users\\asch2\\anaconda3\\lib\\site-packages (from pyspark) (0.10.9.7)\n",
      "Note: you may need to restart the kernel to use updated packages.\n"
     ]
    }
   ],
   "source": [
    "pip install pyspark\n"
   ]
  },
  {
   "cell_type": "code",
   "execution_count": 61,
   "id": "759b99c5",
   "metadata": {},
   "outputs": [],
   "source": [
    "from pyspark.sql import SparkSession\n"
   ]
  },
  {
   "cell_type": "code",
   "execution_count": 62,
   "id": "5c1424e6",
   "metadata": {},
   "outputs": [],
   "source": [
    "spark = SparkSession.builder.appName(\"Stock Price Analysis\").getOrCreate()"
   ]
  },
  {
   "cell_type": "code",
   "execution_count": 63,
   "id": "0d520017",
   "metadata": {},
   "outputs": [
    {
     "name": "stdout",
     "output_type": "stream",
     "text": [
      "Requirement already satisfied: spark in c:\\users\\asch2\\anaconda3\\lib\\site-packages (0.2.1)\n",
      "Note: you may need to restart the kernel to use updated packages.\n"
     ]
    }
   ],
   "source": [
    "pip install spark"
   ]
  },
  {
   "cell_type": "code",
   "execution_count": 64,
   "id": "483e968d",
   "metadata": {},
   "outputs": [],
   "source": [
    "stocks = spark.read.csv(\"CSV\",header=True)"
   ]
  },
  {
   "cell_type": "code",
   "execution_count": 65,
   "id": "8830ebdc",
   "metadata": {},
   "outputs": [
    {
     "name": "stdout",
     "output_type": "stream",
     "text": [
      "+------+----------+----------+-------+--------+--------+--------+\n",
      "|Ticker|      Date|Close/Last| Volume|    Open|    High|     Low|\n",
      "+------+----------+----------+-------+--------+--------+--------+\n",
      "| BRK-B|05/31/2023|  $321.08 |6175417|$321.12 |$322.41 |$319.39 |\n",
      "| BRK-B|05/30/2023|  $322.19 |3232461|$321.86 |$322.47 |$319.00 |\n",
      "| BRK-B|05/26/2023|  $320.60 |3229873|$320.44 |$322.63 |$319.67 |\n",
      "| BRK-B|05/25/2023|  $319.02 |4251935|$320.56 |$320.56 |$317.71 |\n",
      "| BRK-B|05/24/2023|  $320.20 |3075393|$322.71 |$323.00 |$319.56 |\n",
      "+------+----------+----------+-------+--------+--------+--------+\n",
      "only showing top 5 rows\n",
      "\n"
     ]
    }
   ],
   "source": [
    "stocks.show(5)\n"
   ]
  },
  {
   "cell_type": "code",
   "execution_count": 66,
   "id": "19efbfb1",
   "metadata": {},
   "outputs": [
    {
     "name": "stdout",
     "output_type": "stream",
     "text": [
      "root\n",
      " |-- Ticker: string (nullable = true)\n",
      " |-- Date: string (nullable = true)\n",
      " |-- Close/Last: string (nullable = true)\n",
      " |-- Volume: string (nullable = true)\n",
      " |-- Open: string (nullable = true)\n",
      " |-- High: string (nullable = true)\n",
      " |-- Low: string (nullable = true)\n",
      "\n"
     ]
    }
   ],
   "source": [
    "stocks.printSchema()"
   ]
  },
  {
   "cell_type": "code",
   "execution_count": 67,
   "id": "4354de09",
   "metadata": {},
   "outputs": [
    {
     "name": "stdout",
     "output_type": "stream",
     "text": [
      "+------+\n",
      "|Ticker|\n",
      "+------+\n",
      "| BRK-B|\n",
      "| BRK-B|\n",
      "| BRK-B|\n",
      "| BRK-B|\n",
      "| BRK-B|\n",
      "+------+\n",
      "only showing top 5 rows\n",
      "\n"
     ]
    }
   ],
   "source": [
    "stocks.select(\"Ticker\").show(5)"
   ]
  },
  {
   "cell_type": "code",
   "execution_count": 68,
   "id": "ab41bf2d",
   "metadata": {},
   "outputs": [
    {
     "name": "stdout",
     "output_type": "stream",
     "text": [
      "+------+--------+--------+\n",
      "|Ticker|    High|    Open|\n",
      "+------+--------+--------+\n",
      "| BRK-B|$322.41 |$321.12 |\n",
      "| BRK-B|$322.47 |$321.86 |\n",
      "| BRK-B|$322.63 |$320.44 |\n",
      "| BRK-B|$320.56 |$320.56 |\n",
      "| BRK-B|$323.00 |$322.71 |\n",
      "| BRK-B|$329.27 |$328.19 |\n",
      "| BRK-B|$331.49 |$330.75 |\n",
      "| BRK-B|$333.94 |$331.00 |\n",
      "| BRK-B|$329.98 |$326.87 |\n",
      "| BRK-B|$328.26 |$325.02 |\n",
      "| BRK-B|$324.69 |$322.46 |\n",
      "| BRK-B|$323.83 |$322.89 |\n",
      "+------+--------+--------+\n",
      "only showing top 12 rows\n",
      "\n"
     ]
    }
   ],
   "source": [
    "stocks.select(\"Ticker\",\"High\",\"Open\").show(12)"
   ]
  },
  {
   "cell_type": "code",
   "execution_count": 69,
   "id": "682bceb0",
   "metadata": {},
   "outputs": [
    {
     "name": "stdout",
     "output_type": "stream",
     "text": [
      "+------+----------+----------+--------+--------+--------+--------+\n",
      "|Ticker|      Date|Close/Last|  Volume|    Open|    High|     Low|\n",
      "+------+----------+----------+--------+--------+--------+--------+\n",
      "|  MSFT|05/31/2023|  $328.39 |45950550|$332.29 |$335.94 |$327.33 |\n",
      "|  MSFT|05/30/2023|  $331.21 |29503070|$335.23 |$335.74 |$330.52 |\n",
      "|  MSFT|05/26/2023|  $332.89 |36630630|$324.02 |$333.40 |$323.88 |\n",
      "+------+----------+----------+--------+--------+--------+--------+\n",
      "only showing top 3 rows\n",
      "\n"
     ]
    }
   ],
   "source": [
    "stocks.filter(stocks.Ticker==\"MSFT\").show(3)"
   ]
  },
  {
   "cell_type": "code",
   "execution_count": 70,
   "id": "36ed2be6",
   "metadata": {},
   "outputs": [
    {
     "name": "stdout",
     "output_type": "stream",
     "text": [
      "+------+----------+----------+--------+--------+--------+--------+\n",
      "|Ticker|      Date|Close/Last|  Volume|    Open|    High|     Low|\n",
      "+------+----------+----------+--------+--------+--------+--------+\n",
      "|  MSFT|05/31/2023|  $328.39 |45950550|$332.29 |$335.94 |$327.33 |\n",
      "|  MSFT|04/27/2023|  $304.83 |46462640|$295.97 |$305.20 |$295.25 |\n",
      "|  MSFT|04/26/2023|  $295.37 |64599180|$296.70 |$299.57 |$292.73 |\n",
      "+------+----------+----------+--------+--------+--------+--------+\n",
      "only showing top 3 rows\n",
      "\n"
     ]
    }
   ],
   "source": [
    "stocks.filter((stocks.Ticker==\"MSFT\")&(stocks.Volume>=\"45950550\")).show(3)"
   ]
  },
  {
   "cell_type": "code",
   "execution_count": 71,
   "id": "641ec36b",
   "metadata": {},
   "outputs": [
    {
     "name": "stdout",
     "output_type": "stream",
     "text": [
      "+------+----------+----------+-------+--------+--------+--------+\n",
      "|Ticker|      Date|Close/Last| Volume|    Open|    High|     Low|\n",
      "+------+----------+----------+-------+--------+--------+--------+\n",
      "| BRK-B|05/31/2023|  $321.08 |6175417|$321.12 |$322.41 |$319.39 |\n",
      "| BRK-B|04/03/2023|  $310.31 |4863537|$309.25 |$311.50 |$308.24 |\n",
      "| BRK-B|03/31/2023|  $308.77 |5022204|$305.90 |$308.81 |$304.99 |\n",
      "+------+----------+----------+-------+--------+--------+--------+\n",
      "only showing top 3 rows\n",
      "\n"
     ]
    }
   ],
   "source": [
    " stocks.filter((stocks.Ticker==\"MSFT\")|(stocks.Volume>=\"45950550\")).show(3)"
   ]
  },
  {
   "cell_type": "code",
   "execution_count": 72,
   "id": "2e492711",
   "metadata": {},
   "outputs": [
    {
     "name": "stdout",
     "output_type": "stream",
     "text": [
      "+------+----------+----------+-------+--------+--------+--------+\n",
      "|Ticker|      Date|Close/Last| Volume|    Open|    High|     Low|\n",
      "+------+----------+----------+-------+--------+--------+--------+\n",
      "| BRK-B|05/31/2023|  $321.08 |6175417|$321.12 |$322.41 |$319.39 |\n",
      "| BRK-B|04/03/2023|  $310.31 |4863537|$309.25 |$311.50 |$308.24 |\n",
      "| BRK-B|03/31/2023|  $308.77 |5022204|$305.90 |$308.81 |$304.99 |\n",
      "| BRK-B|03/21/2023|  $303.85 |4725100|$304.56 |$305.63 |$302.25 |\n",
      "| BRK-B|03/20/2023|  $301.06 |6059923|$295.57 |$301.51 |$295.06 |\n",
      "| BRK-B|03/16/2023|  $302.01 |6327578|$296.37 |$304.43 |$295.36 |\n",
      "| BRK-B|03/15/2023|  $297.88 |7165298|$300.02 |$300.55 |$294.90 |\n",
      "| BRK-B|03/14/2023|  $305.33 |5255174|$306.92 |$307.55 |$301.68 |\n",
      "| BRK-B|03/13/2023|  $302.88 |4993820|$301.75 |$306.59 |$300.76 |\n",
      "| BRK-B|03/10/2023|  $303.63 |5297790|$302.95 |$306.72 |$301.92 |\n",
      "| BRK-B|03/06/2023|  $316.97 |4892345|$312.82 |$317.29 |$312.43 |\n",
      "| BRK-B|02/28/2023|  $305.18 |4737739|$304.89 |$306.15 |$303.41 |\n",
      "| BRK-B|02/03/2023|  $308.51 |5387548|$311.00 |$311.55 |$305.92 |\n",
      "| BRK-B|01/04/2023|  $314.55 |5122121|$312.00 |$316.89 |$311.25 |\n",
      "| BRK-B|12/16/2022|  $300.00 |8308365|$299.05 |$302.47 |$297.76 |\n",
      "| BRK-B|12/15/2022|  $301.91 |5107189|$306.43 |$306.96 |$299.45 |\n",
      "| BRK-B|12/13/2022|  $312.33 |5043156|$318.40 |$318.91 |$310.82 |\n",
      "| BRK-B|11/30/2022|  $318.60 |7924360|$315.13 |$318.60 |$308.70 |\n",
      "| BRK-B|11/14/2022|  $308.91 |4639814|$310.00 |$311.84 |$308.84 |\n",
      "| BRK-B|11/11/2022|  $309.72 |6572828|$305.56 |$311.33 |$302.60 |\n",
      "| BRK-B|11/10/2022|  $303.20 |5695773|$297.11 |$303.50 |$294.54 |\n",
      "| BRK-B|10/31/2022|  $295.09 |4627809|$297.98 |$298.89 |$294.85 |\n",
      "| BRK-B|10/28/2022|  $299.63 |4629639|$292.77 |$299.98 |$291.48 |\n",
      "| BRK-B|10/21/2022|  $282.51 |4996771|$273.76 |$282.92 |$271.46 |\n",
      "| BRK-B|10/13/2022|  $275.78 |5485173|$260.58 |$276.78 |$259.85 |\n",
      "| BRK-B|10/04/2022|  $280.49 |4636293|$277.42 |$281.30 |$276.60 |\n",
      "| BRK-B|10/03/2022|  $272.80 |4903523|$269.52 |$274.57 |$267.16 |\n",
      "| BRK-B|09/30/2022|  $267.02 |6059434|$269.21 |$272.94 |$266.60 |\n",
      "| BRK-B|09/29/2022|  $269.58 |5211637|$269.89 |$272.17 |$265.59 |\n",
      "| BRK-B|09/28/2022|  $271.78 |5942582|$265.65 |$273.60 |$264.91 |\n",
      "+------+----------+----------+-------+--------+--------+--------+\n",
      "only showing top 30 rows\n",
      "\n"
     ]
    }
   ],
   "source": [
    " stocks.filter((stocks.Ticker==\"MSFT\")|(stocks.Volume>=\"45950550\")).show(30)\n",
    "    #huge data coming from the first filter."
   ]
  },
  {
   "cell_type": "code",
   "execution_count": 73,
   "id": "53529f86",
   "metadata": {},
   "outputs": [
    {
     "name": "stdout",
     "output_type": "stream",
     "text": [
      "+------+----------+----------+--------+--------+--------+--------+\n",
      "|Ticker|      Date|Close/Last|  Volume|    Open|    High|     Low|\n",
      "+------+----------+----------+--------+--------+--------+--------+\n",
      "|  MSFT|05/31/2023|  $328.39 |45950550|$332.29 |$335.94 |$327.33 |\n",
      "|     V|05/31/2023|  $221.03 |20460620|$219.96 |$221.53 |$216.14 |\n",
      "+------+----------+----------+--------+--------+--------+--------+\n",
      "\n"
     ]
    }
   ],
   "source": [
    "stocks.filter(((stocks.Ticker == \"MSFT\") | (stocks.Ticker == \"V\")) & (stocks.Date == \"05/31/2023\")).show(5)"
   ]
  },
  {
   "cell_type": "code",
   "execution_count": 74,
   "id": "32c438ef",
   "metadata": {},
   "outputs": [],
   "source": [
    "from pyspark.sql import functions as F"
   ]
  },
  {
   "cell_type": "code",
   "execution_count": 75,
   "id": "18596a16",
   "metadata": {},
   "outputs": [
    {
     "name": "stdout",
     "output_type": "stream",
     "text": [
      "+------+----------+----------+---------+--------+--------+--------+\n",
      "|Ticker|      Date|Close/Last|   Volume|    Open|    High|     Low|\n",
      "+------+----------+----------+---------+--------+--------+--------+\n",
      "|  MSFT|12/24/2020|  $222.75 | 10550570|$221.42 |$223.61 |$221.20 |\n",
      "|  MSFT|12/21/2018|   $98.23 |110945000|$101.63 |$103.00 | $97.46 |\n",
      "|  MSFT|11/29/2019|  $151.38 | 11977300|$152.10 |$152.30 |$151.28 |\n",
      "|  MSFT|10/14/2019|  $139.55 | 13591640|$139.69 |$140.29 |$139.52 |\n",
      "|  MSFT|07/03/2019|  $137.46 | 13629300|$136.80 |$137.74 |$136.30 |\n",
      "|  MSFT|08/09/2018|  $109.67 | 13634510|$109.71 |$110.16 |$109.60 |\n",
      "|  MSFT|04/11/2019|  $120.33 | 13758010|$120.54 |$120.85 |$119.92 |\n",
      "|  MSFT|11/23/2018|  $103.07 | 13823100|$102.17 |$103.81 |$102.00 |\n",
      "|  MSFT|08/05/2021|  $289.52 | 13900170|$286.88 |$289.63 |$286.10 |\n",
      "|  MSFT|08/11/2021|  $286.95 | 13955930|$287.21 |$288.66 |$285.86 |\n",
      "|  MSFT|04/16/2019|  $120.77 | 14054870|$121.64 |$121.65 |$120.10 |\n",
      "|  MSFT|05/24/2019|  $126.24 | 14123360|$126.91 |$127.42 |$125.97 |\n",
      "|  MSFT|11/11/2019|  $146.11 | 14370180|$145.34 |$146.42 |$144.73 |\n",
      "|  MSFT|11/27/2020|  $215.23 | 14512210|$214.85 |$216.27 |$214.04 |\n",
      "|  MSFT|06/17/2019|  $132.85 | 14517790|$132.63 |$133.73 |$132.53 |\n",
      "|  MSFT|12/26/2019|  $158.67 | 14526930|$157.56 |$158.73 |$157.40 |\n",
      "|  MSFT|04/10/2019|  $120.19 | 14540330|$119.76 |$120.35 |$119.54 |\n",
      "|  MSFT|08/12/2021|  $289.81 | 14570390|$286.63 |$289.97 |$286.34 |\n",
      "|  MSFT|07/03/2018|   $99.05 | 14670280|$100.48 |$100.63 | $98.94 |\n",
      "|  MSFT|09/03/2021|  $301.14 | 14751610|$300.99 |$302.60 |$300.26 |\n",
      "|  MSFT|04/22/2019|  $123.76 | 14825150|$122.62 |$124.00 |$122.57 |\n",
      "|  MSFT|08/21/2019|  $138.79 | 14982310|$138.55 |$139.49 |$138.00 |\n",
      "|  MSFT|09/24/2021|  $299.35 | 14998980|$298.23 |$299.80 |$296.93 |\n",
      "|  MSFT|12/29/2021|  $341.95 | 15041960|$341.30 |$344.30 |$339.68 |\n",
      "|  MSFT|09/08/2021|  $300.21 | 15046820|$299.78 |$300.61 |$297.47 |\n",
      "|  MSFT|04/08/2019|  $119.93 | 15113170|$119.81 |$120.02 |$118.64 |\n",
      "|  MSFT|11/27/2019|  $152.32 | 15201290|$152.33 |$152.50 |$151.52 |\n",
      "|  MSFT|07/02/2019|  $136.58 | 15237840|$136.12 |$136.59 |$135.34 |\n",
      "|  MSFT|05/21/2019|  $126.90 | 15293260|$127.43 |$127.53 |$126.58 |\n",
      "|  MSFT|05/22/2019|  $127.67 | 15396490|$126.62 |$128.24 |$126.52 |\n",
      "+------+----------+----------+---------+--------+--------+--------+\n",
      "only showing top 30 rows\n",
      "\n"
     ]
    }
   ],
   "source": [
    " stocks.filter((stocks.Ticker==\"MSFT\")|(stocks.Volume>=\"45950550\")).orderBy(F.col(\"Volume\")).show(30)\n",
    "    #huge data coming from the first filter."
   ]
  },
  {
   "cell_type": "code",
   "execution_count": 76,
   "id": "30e65df1",
   "metadata": {},
   "outputs": [
    {
     "name": "stdout",
     "output_type": "stream",
     "text": [
      "+------+----------+----------+---------+--------+--------+--------+\n",
      "|Ticker|      Date|Close/Last|   Volume|    Open|    High|     Low|\n",
      "+------+----------+----------+---------+--------+--------+--------+\n",
      "|  MSFT|05/31/2023|  $328.39 | 45950550|$332.29 |$335.94 |$327.33 |\n",
      "|  TSLA|05/31/2023|  $203.93 |150711700|$199.78 |$203.95 |$195.12 |\n",
      "|     V|05/31/2023|  $221.03 | 20460620|$219.96 |$221.53 |$216.14 |\n",
      "|   SPY|05/31/2023|    417.85|110811800|  418.28|  419.22|  416.22|\n",
      "|   QQQ|05/31/2023|    347.99| 65105380|  348.37|   350.6|  346.51|\n",
      "+------+----------+----------+---------+--------+--------+--------+\n",
      "\n"
     ]
    }
   ],
   "source": [
    "stocks.filter((stocks.Ticker.isin([\"MSFT\", \"QQQ\", \"SPY\", \"V\", \"TSLA\"])) & (stocks.Date == \"05/31/2023\")).show(15)"
   ]
  },
  {
   "cell_type": "code",
   "execution_count": 77,
   "id": "c06ca237",
   "metadata": {},
   "outputs": [
    {
     "name": "stdout",
     "output_type": "stream",
     "text": [
      "root\n",
      " |-- Ticker: string (nullable = true)\n",
      " |-- Date: string (nullable = true)\n",
      " |-- Close/Last: string (nullable = true)\n",
      " |-- Volume: string (nullable = true)\n",
      " |-- Open: string (nullable = true)\n",
      " |-- High: string (nullable = true)\n",
      " |-- Low: string (nullable = true)\n",
      "\n"
     ]
    }
   ],
   "source": [
    "stocks.printSchema()\n"
   ]
  },
  {
   "cell_type": "code",
   "execution_count": 78,
   "id": "5d656d19",
   "metadata": {},
   "outputs": [
    {
     "name": "stdout",
     "output_type": "stream",
     "text": [
      "root\n",
      " |-- Ticker: string (nullable = true)\n",
      " |-- Date: string (nullable = true)\n",
      " |-- Close/Last: string (nullable = true)\n",
      " |-- Volume: string (nullable = true)\n",
      " |-- Open: string (nullable = true)\n",
      " |-- High: string (nullable = true)\n",
      " |-- Low: string (nullable = true)\n",
      "\n"
     ]
    }
   ],
   "source": [
    "stocks.printSchema()"
   ]
  },
  {
   "cell_type": "code",
   "execution_count": 79,
   "id": "ac621725",
   "metadata": {},
   "outputs": [
    {
     "name": "stdout",
     "output_type": "stream",
     "text": [
      "+------+-------+--------+--------+--------+----------+\n",
      "|Ticker| Volume|    Open|     Low|    High|Close/Last|\n",
      "+------+-------+--------+--------+--------+----------+\n",
      "| BRK-B|6175417|$321.12 |$319.39 |$322.41 |  $321.08 |\n",
      "| BRK-B|3232461|$321.86 |$319.00 |$322.47 |  $322.19 |\n",
      "| BRK-B|3229873|$320.44 |$319.67 |$322.63 |  $320.60 |\n",
      "| BRK-B|4251935|$320.56 |$317.71 |$320.56 |  $319.02 |\n",
      "| BRK-B|3075393|$322.71 |$319.56 |$323.00 |  $320.20 |\n",
      "+------+-------+--------+--------+--------+----------+\n",
      "only showing top 5 rows\n",
      "\n"
     ]
    }
   ],
   "source": [
    "stocks.select([\"Ticker\", \"Volume\", \"Open\", \"Low\", \"High\", \"Close/Last\"]).show(5)"
   ]
  },
  {
   "cell_type": "code",
   "execution_count": 80,
   "id": "1c18a638",
   "metadata": {},
   "outputs": [
    {
     "name": "stdout",
     "output_type": "stream",
     "text": [
      "+-------+--------------------+------------------+-----------------+------------------+-----------------+\n",
      "|summary|              Volume|              Open|              Low|              High|       Close/Last|\n",
      "+-------+--------------------+------------------+-----------------+------------------+-----------------+\n",
      "|  count|               15108|             15108|            15108|             15108|            15108|\n",
      "|   mean|5.1868408793685466E7|310.45487045274086|308.0139621922151|312.71318065925254|310.5208419380462|\n",
      "| stddev| 5.496484129953463E7| 81.45744112294241|81.02418964865161| 81.80079365071443|81.44943282256595|\n",
      "|    min|           100011880|          $100.00 |         $100.01 |          $100.00 |         $100.00 |\n",
      "|    max|             9999164|            479.22|           476.06|            479.98|           477.71|\n",
      "+-------+--------------------+------------------+-----------------+------------------+-----------------+\n",
      "\n"
     ]
    }
   ],
   "source": [
    "stocks.describe([\"Volume\", \"Open\", \"Low\", \"High\", \"Close/Last\"]).show()"
   ]
  },
  {
   "cell_type": "markdown",
   "id": "b8c27021",
   "metadata": {},
   "source": [
    "# Basic Stock Analysis"
   ]
  },
  {
   "cell_type": "code",
   "execution_count": 81,
   "id": "e611f9d7",
   "metadata": {},
   "outputs": [
    {
     "name": "stdout",
     "output_type": "stream",
     "text": [
      "+------+----------+----------+-------+----+----+---+\n",
      "|Ticker|      Date|Close/Last| Volume|Open|High|Low|\n",
      "+------+----------+----------+-------+----+----+---+\n",
      "| BRK-B|05/31/2023|       321|6175417| 321| 322|319|\n",
      "| BRK-B|05/30/2023|       322|3232461| 321| 322|319|\n",
      "| BRK-B|05/26/2023|       320|3229873| 320| 322|319|\n",
      "| BRK-B|05/25/2023|       319|4251935| 320| 320|317|\n",
      "| BRK-B|05/24/2023|       320|3075393| 322| 323|319|\n",
      "| BRK-B|05/23/2023|       323|4031342| 328| 329|322|\n",
      "| BRK-B|05/22/2023|       329|2763422| 330| 331|328|\n",
      "| BRK-B|05/19/2023|       330|4323538| 331| 333|329|\n",
      "| BRK-B|05/18/2023|       329|2808329| 326| 329|325|\n",
      "| BRK-B|05/17/2023|       327|3047626| 325| 328|324|\n",
      "| BRK-B|05/16/2023|       323|2139996| 322| 324|322|\n",
      "| BRK-B|05/15/2023|       323|2191609| 322| 323|320|\n",
      "| BRK-B|05/12/2023|       322|1938264| 323| 324|320|\n",
      "| BRK-B|05/11/2023|       322|2549339| 321| 322|319|\n",
      "| BRK-B|05/10/2023|       322|2641134| 326| 326|320|\n",
      "| BRK-B|05/09/2023|       324|2285924| 324| 326|323|\n",
      "| BRK-B|05/08/2023|       326|3303393| 328| 330|325|\n",
      "| BRK-B|05/05/2023|       323|3876299| 323| 325|322|\n",
      "| BRK-B|05/04/2023|       320|3194768| 323| 325|317|\n",
      "| BRK-B|05/03/2023|       323|2660456| 327| 328|323|\n",
      "+------+----------+----------+-------+----+----+---+\n",
      "only showing top 20 rows\n",
      "\n"
     ]
    }
   ],
   "source": [
    "from pyspark.sql.functions import col,regexp_replace\n",
    "\n",
    "# Remove '$' sign \n",
    "stocks = stocks.withColumn(\"Open\", col(\"Open\").cast(\"string\"))\n",
    "stocks = stocks.withColumn(\"gHih\", col(\"High\").cast(\"string\"))\n",
    "stocks = stocks.withColumn(\"Low\", col(\"Low\").cast(\"string\"))\n",
    "stocks = stocks.withColumn(\"Close/Last\", col(\"Close/Last\").cast(\"string\"))\n",
    "\n",
    "# Remove '$' sign \n",
    "stocks = stocks.withColumn(\"Open\", col(\"Open\").cast(\"string\"))\n",
    "stocks = stocks.withColumn(\"Open\", regexp_replace(col(\"Open\"), \"\\\\$\", \"\").cast(\"int\"))\n",
    "stocks = stocks.withColumn(\"High\", regexp_replace(col(\"High\"), \"\\\\$\", \"\").cast(\"int\"))\n",
    "stocks = stocks.withColumn(\"Low\", regexp_replace(col(\"Low\"), \"\\\\$\", \"\").cast(\"int\"))\n",
    "stocks = stocks.withColumn(\"Close/Last\", regexp_replace(col(\"Close/Last\"), \"\\\\$\", \"\").cast(\"int\"))\n",
    "\n",
    "# Now the '$' sign is removed \n",
    "stocks.show()\n"
   ]
  },
  {
   "cell_type": "code",
   "execution_count": 82,
   "id": "467e34bf",
   "metadata": {},
   "outputs": [
    {
     "name": "stdout",
     "output_type": "stream",
     "text": [
      "+------+---------+\n",
      "|Ticker|max(Open)|\n",
      "+------+---------+\n",
      "| BRK-B|      361|\n",
      "|  MSFT|      344|\n",
      "|  META|      381|\n",
      "|  TSLA|      411|\n",
      "|  AAPL|      182|\n",
      "|  AMZN|      187|\n",
      "| GOOGL|      151|\n",
      "|  NVDA|      405|\n",
      "|   TSM|      141|\n",
      "|     V|      250|\n",
      "|   QQQ|      405|\n",
      "|   SPY|      479|\n",
      "+------+---------+\n",
      "\n"
     ]
    }
   ],
   "source": [
    "stocks.groupBy(\"Ticker\").max(\"Open\").show(15)"
   ]
  },
  {
   "cell_type": "code",
   "execution_count": 83,
   "id": "58a52aef",
   "metadata": {},
   "outputs": [
    {
     "name": "stdout",
     "output_type": "stream",
     "text": [
      "+------+-------------+\n",
      "|Ticker|MaxStockPrice|\n",
      "+------+-------------+\n",
      "| BRK-B|          361|\n",
      "|  MSFT|          344|\n",
      "|  META|          381|\n",
      "|  TSLA|          411|\n",
      "|  AAPL|          182|\n",
      "|  AMZN|          187|\n",
      "| GOOGL|          151|\n",
      "|  NVDA|          405|\n",
      "|   TSM|          141|\n",
      "|     V|          250|\n",
      "|   QQQ|          405|\n",
      "|   SPY|          479|\n",
      "+------+-------------+\n",
      "\n"
     ]
    }
   ],
   "source": [
    "stocks.groupBy(\"Ticker\").max(\"Open\").withColumnRenamed(\"max(Open)\", \"MaxStockPrice\").show(15)"
   ]
  },
  {
   "cell_type": "code",
   "execution_count": 84,
   "id": "37ec056f",
   "metadata": {},
   "outputs": [
    {
     "name": "stdout",
     "output_type": "stream",
     "text": [
      "+------+-------------+\n",
      "|Ticker|MaxStockPrice|\n",
      "+------+-------------+\n",
      "| BRK-B|          361|\n",
      "|  MSFT|          344|\n",
      "|  META|          381|\n",
      "|  TSLA|          411|\n",
      "|  AAPL|          182|\n",
      "|  AMZN|          187|\n",
      "| GOOGL|          151|\n",
      "|  NVDA|          405|\n",
      "|   TSM|          141|\n",
      "|     V|          250|\n",
      "+------+-------------+\n",
      "only showing top 10 rows\n",
      "\n"
     ]
    }
   ],
   "source": [
    "import pyspark.sql.functions as func\n",
    "stocks.groupBy(\"Ticker\").agg(func.max(\"Open\").alias(\"MaxStockPrice\")).show(10)"
   ]
  },
  {
   "cell_type": "code",
   "execution_count": 85,
   "id": "def8f83c",
   "metadata": {},
   "outputs": [
    {
     "name": "stdout",
     "output_type": "stream",
     "text": [
      "+------+-------------+----------------+\n",
      "|Ticker|MaxStockPrice|     TotalVolume|\n",
      "+------+-------------+----------------+\n",
      "| BRK-B|          361|   5.862401321E9|\n",
      "|  MSFT|          344| 3.7976660472E10|\n",
      "|  META|          381| 3.0148848043E10|\n",
      "|  TSLA|          411|1.71802975076E11|\n",
      "|  AAPL|          182| 1.3931006136E11|\n",
      "|  AMZN|          187| 1.0450328743E11|\n",
      "| GOOGL|          151| 4.3956560981E10|\n",
      "|  NVDA|          405| 5.8787218324E10|\n",
      "|   TSM|          141| 1.2506470104E10|\n",
      "|     V|          250| 1.0410997871E10|\n",
      "|   QQQ|          405| 6.0437153773E10|\n",
      "|   SPY|          479|  1.079252853E11|\n",
      "+------+-------------+----------------+\n",
      "\n"
     ]
    }
   ],
   "source": [
    "stocks.groupBy(\"Ticker\").agg(\n",
    "    func.max(\"Open\").alias(\"MaxStockPrice\"),\n",
    "    func.sum(\"Volume\").alias(\"TotalVolume\")\n",
    ").show(15)"
   ]
  },
  {
   "cell_type": "code",
   "execution_count": 86,
   "id": "1169bd1f",
   "metadata": {},
   "outputs": [
    {
     "name": "stdout",
     "output_type": "stream",
     "text": [
      "root\n",
      " |-- Ticker: string (nullable = true)\n",
      " |-- Date: date (nullable = true)\n",
      " |-- Close/Last: integer (nullable = true)\n",
      " |-- Volume: string (nullable = true)\n",
      " |-- Open: integer (nullable = true)\n",
      " |-- High: integer (nullable = true)\n",
      " |-- Low: integer (nullable = true)\n",
      "\n"
     ]
    }
   ],
   "source": [
    "from pyspark.sql import functions as F\n",
    "\n",
    "# Assuming 'stocks' is your DataFrame containing the schema you provided\n",
    "cleaned_stocks = (stocks.withColumn(\"Date\", F.to_date(stocks[\"Date\"], \"MM/dd/yyyy\")))\n",
    "\n",
    "# Now 'Date' column is converted to Date type\n",
    "cleaned_stocks.printSchema()\n"
   ]
  },
  {
   "cell_type": "code",
   "execution_count": 87,
   "id": "240b93b4",
   "metadata": {},
   "outputs": [
    {
     "name": "stdout",
     "output_type": "stream",
     "text": [
      "+------+----------+----------+-------+----+----+---+\n",
      "|Ticker|      Date|Close/Last| Volume|Open|High|Low|\n",
      "+------+----------+----------+-------+----+----+---+\n",
      "| BRK-B|2023-05-31|       321|6175417| 321| 322|319|\n",
      "| BRK-B|2023-05-30|       322|3232461| 321| 322|319|\n",
      "| BRK-B|2023-05-26|       320|3229873| 320| 322|319|\n",
      "| BRK-B|2023-05-25|       319|4251935| 320| 320|317|\n",
      "| BRK-B|2023-05-24|       320|3075393| 322| 323|319|\n",
      "+------+----------+----------+-------+----+----+---+\n",
      "only showing top 5 rows\n",
      "\n"
     ]
    }
   ],
   "source": [
    "cleaned_stocks.show(5)"
   ]
  },
  {
   "cell_type": "code",
   "execution_count": 88,
   "id": "97e13440",
   "metadata": {},
   "outputs": [],
   "source": [
    "from pyspark.sql import functions as F\n",
    "\n",
    "cleaned2_stocks = (cleaned_stocks.withColumn(\"Year\", F.year(cleaned_stocks[\"Date\"]))\n",
    "                        .withColumn(\"Month\", F.month(cleaned_stocks[\"Date\"]))\n",
    "                        .withColumn(\"Day\", F.dayofmonth(cleaned_stocks[\"Date\"]))\n",
    "                        .withColumn(\"Week\", F.weekofyear(cleaned_stocks[\"Date\"])))\n"
   ]
  },
  {
   "cell_type": "code",
   "execution_count": 89,
   "id": "5b1bf550",
   "metadata": {},
   "outputs": [
    {
     "name": "stdout",
     "output_type": "stream",
     "text": [
      "+------+----------+----------+-------+----+----+---+----+-----+---+----+\n",
      "|Ticker|      Date|Close/Last| Volume|Open|High|Low|Year|Month|Day|Week|\n",
      "+------+----------+----------+-------+----+----+---+----+-----+---+----+\n",
      "| BRK-B|2023-05-31|       321|6175417| 321| 322|319|2023|    5| 31|  22|\n",
      "| BRK-B|2023-05-30|       322|3232461| 321| 322|319|2023|    5| 30|  22|\n",
      "| BRK-B|2023-05-26|       320|3229873| 320| 322|319|2023|    5| 26|  21|\n",
      "| BRK-B|2023-05-25|       319|4251935| 320| 320|317|2023|    5| 25|  21|\n",
      "| BRK-B|2023-05-24|       320|3075393| 322| 323|319|2023|    5| 24|  21|\n",
      "| BRK-B|2023-05-23|       323|4031342| 328| 329|322|2023|    5| 23|  21|\n",
      "| BRK-B|2023-05-22|       329|2763422| 330| 331|328|2023|    5| 22|  21|\n",
      "| BRK-B|2023-05-19|       330|4323538| 331| 333|329|2023|    5| 19|  20|\n",
      "| BRK-B|2023-05-18|       329|2808329| 326| 329|325|2023|    5| 18|  20|\n",
      "| BRK-B|2023-05-17|       327|3047626| 325| 328|324|2023|    5| 17|  20|\n",
      "+------+----------+----------+-------+----+----+---+----+-----+---+----+\n",
      "only showing top 10 rows\n",
      "\n"
     ]
    }
   ],
   "source": [
    "cleaned2_stocks.show(10)"
   ]
  },
  {
   "cell_type": "code",
   "execution_count": 90,
   "id": "93ab83e7",
   "metadata": {},
   "outputs": [],
   "source": [
    "yearly = cleaned2_stocks.groupBy(['Ticker', 'Year']).agg(func.max(\"Open\").alias(\"YearlyHigh\"), func.min(\"Open\").alias(\"YearlyLow\"))"
   ]
  },
  {
   "cell_type": "code",
   "execution_count": 91,
   "id": "ebe62a94",
   "metadata": {},
   "outputs": [
    {
     "name": "stdout",
     "output_type": "stream",
     "text": [
      "+------+----+----------+---------+\n",
      "|Ticker|Year|YearlyHigh|YearlyLow|\n",
      "+------+----+----------+---------+\n",
      "| BRK-B|2023|       331|      294|\n",
      "|  MSFT|2019|       159|       99|\n",
      "|  MSFT|2021|       344|      212|\n",
      "| BRK-B|2018|       224|      185|\n",
      "|  MSFT|2020|       229|      137|\n",
      "| BRK-B|2021|       300|      228|\n",
      "|  MSFT|2018|       115|       95|\n",
      "| BRK-B|2020|       233|      165|\n",
      "|  MSFT|2023|       335|      223|\n",
      "| BRK-B|2019|       227|      194|\n",
      "+------+----+----------+---------+\n",
      "only showing top 10 rows\n",
      "\n"
     ]
    }
   ],
   "source": [
    "yearly.show(10)"
   ]
  },
  {
   "cell_type": "code",
   "execution_count": 92,
   "id": "0dd1f7f0",
   "metadata": {},
   "outputs": [],
   "source": [
    "## Calculate average stock price for stock each month\n",
    "monthly = cleaned2_stocks.groupBy(['Ticker', 'Year', 'Month']).agg(func.max(\"Open\").alias(\"MonthHigh\"), func.min(\"Open\").alias(\"MonthLow\"))\n",
    "weekly = cleaned2_stocks.groupBy(['Ticker', 'Year', 'Week']).agg(func.max(\"Open\").alias(\"WeekHigh\"), func.min(\"Open\").alias(\"WeekLow\"))"
   ]
  },
  {
   "cell_type": "code",
   "execution_count": 93,
   "id": "008b3ed1",
   "metadata": {},
   "outputs": [
    {
     "name": "stdout",
     "output_type": "stream",
     "text": [
      "+------+----+-----+---------+--------+\n",
      "|Ticker|Year|Month|MonthHigh|MonthLow|\n",
      "+------+----+-----+---------+--------+\n",
      "| BRK-B|2022|   10|      297|     260|\n",
      "| BRK-B|2018|    9|      222|     209|\n",
      "|  MSFT|2022|    6|      275|     243|\n",
      "|  MSFT|2021|    2|      245|     230|\n",
      "|  MSFT|2020|    1|      174|     157|\n",
      "| BRK-B|2021|   10|      290|     273|\n",
      "| BRK-B|2020|   10|      216|     200|\n",
      "|  MSFT|2019|    6|      137|     121|\n",
      "|  MSFT|2022|   10|      247|     219|\n",
      "| BRK-B|2019|    9|      212|     201|\n",
      "| BRK-B|2021|    6|      292|     275|\n",
      "|  MSFT|2020|   12|      226|     210|\n",
      "|  MSFT|2019|   10|      144|     134|\n",
      "| BRK-B|2022|   11|      317|     286|\n",
      "| BRK-B|2022|    7|      297|     272|\n",
      "|  MSFT|2023|    2|      273|     248|\n",
      "|  MSFT|2021|    1|      238|     212|\n",
      "| BRK-B|2022|    6|      316|     267|\n",
      "| BRK-B|2020|    8|      218|     197|\n",
      "|  MSFT|2022|   12|      261|     235|\n",
      "+------+----+-----+---------+--------+\n",
      "only showing top 20 rows\n",
      "\n"
     ]
    }
   ],
   "source": [
    "monthly.show()"
   ]
  },
  {
   "cell_type": "code",
   "execution_count": 94,
   "id": "6789ace7",
   "metadata": {},
   "outputs": [
    {
     "name": "stdout",
     "output_type": "stream",
     "text": [
      "+------+----+----+--------+-------+\n",
      "|Ticker|Year|Week|WeekHigh|WeekLow|\n",
      "+------+----+----+--------+-------+\n",
      "| BRK-B|2022|  14|     352|    341|\n",
      "| BRK-B|2022|  10|     326|    322|\n",
      "| BRK-B|2021|  14|     264|    260|\n",
      "| BRK-B|2018|  48|     217|    209|\n",
      "|  MSFT|2022|   6|     309|    301|\n",
      "|  MSFT|2021|   2|     218|    213|\n",
      "| BRK-B|2020|  19|     180|    173|\n",
      "|  MSFT|2020|   1|     158|    158|\n",
      "| BRK-B|2021|  32|     291|    287|\n",
      "| BRK-B|2021|  10|     264|    255|\n",
      "| BRK-B|2020|  10|     217|    203|\n",
      "| BRK-B|2020|  28|     183|    178|\n",
      "|  MSFT|2021|  41|     302|    292|\n",
      "|  MSFT|2020|  19|     184|    174|\n",
      "| BRK-B|2019|  30|     208|    205|\n",
      "|  MSFT|2019|  43|     139|    136|\n",
      "|  MSFT|2021|  44|     338|    330|\n",
      "|  MSFT|2019|   6|     107|    102|\n",
      "|  MSFT|2022|  10|     288|    277|\n",
      "| BRK-B|2019|  23|     204|    197|\n",
      "+------+----+----+--------+-------+\n",
      "only showing top 20 rows\n",
      "\n"
     ]
    }
   ],
   "source": [
    "weekly.show()"
   ]
  },
  {
   "cell_type": "code",
   "execution_count": 95,
   "id": "c44a554e",
   "metadata": {},
   "outputs": [
    {
     "name": "stdout",
     "output_type": "stream",
     "text": [
      "+------+----+----+--------+-------+-------------+\n",
      "|Ticker|Year|Week|WeekHigh|WeekLow|ChangeInStock|\n",
      "+------+----+----+--------+-------+-------------+\n",
      "| BRK-B|2022|  14|     352|    341|           11|\n",
      "| BRK-B|2022|  10|     326|    322|            4|\n",
      "| BRK-B|2021|  14|     264|    260|            4|\n",
      "| BRK-B|2018|  48|     217|    209|            8|\n",
      "|  MSFT|2022|   6|     309|    301|            8|\n",
      "|  MSFT|2021|   2|     218|    213|            5|\n",
      "| BRK-B|2020|  19|     180|    173|            7|\n",
      "|  MSFT|2020|   1|     158|    158|            0|\n",
      "| BRK-B|2021|  32|     291|    287|            4|\n",
      "| BRK-B|2021|  10|     264|    255|            9|\n",
      "| BRK-B|2020|  10|     217|    203|           14|\n",
      "| BRK-B|2020|  28|     183|    178|            5|\n",
      "|  MSFT|2021|  41|     302|    292|           10|\n",
      "|  MSFT|2020|  19|     184|    174|           10|\n",
      "| BRK-B|2019|  30|     208|    205|            3|\n",
      "|  MSFT|2019|  43|     139|    136|            3|\n",
      "|  MSFT|2021|  44|     338|    330|            8|\n",
      "|  MSFT|2019|   6|     107|    102|            5|\n",
      "|  MSFT|2022|  10|     288|    277|           11|\n",
      "| BRK-B|2019|  23|     204|    197|            7|\n",
      "+------+----+----+--------+-------+-------------+\n",
      "only showing top 20 rows\n",
      "\n"
     ]
    }
   ],
   "source": [
    "weekly.withColumn(\"ChangeInStock\", weekly['WeekHigh'] - weekly['WeekLow']).show()"
   ]
  },
  {
   "cell_type": "code",
   "execution_count": 97,
   "id": "9f3de970",
   "metadata": {},
   "outputs": [],
   "source": [
    "snapshot = cleaned2_stocks.select(['Ticker', 'Date', 'Open'])"
   ]
  },
  {
   "cell_type": "code",
   "execution_count": 98,
   "id": "34252ee8",
   "metadata": {},
   "outputs": [
    {
     "name": "stdout",
     "output_type": "stream",
     "text": [
      "+------+----------+----+\n",
      "|Ticker|      Date|Open|\n",
      "+------+----------+----+\n",
      "| BRK-B|2023-05-31| 321|\n",
      "| BRK-B|2023-05-30| 321|\n",
      "| BRK-B|2023-05-26| 320|\n",
      "| BRK-B|2023-05-25| 320|\n",
      "| BRK-B|2023-05-24| 322|\n",
      "| BRK-B|2023-05-23| 328|\n",
      "| BRK-B|2023-05-22| 330|\n",
      "| BRK-B|2023-05-19| 331|\n",
      "| BRK-B|2023-05-18| 326|\n",
      "| BRK-B|2023-05-17| 325|\n",
      "+------+----------+----+\n",
      "only showing top 10 rows\n",
      "\n"
     ]
    }
   ],
   "source": [
    "snapshot.show(10)"
   ]
  },
  {
   "cell_type": "code",
   "execution_count": 99,
   "id": "446143b3",
   "metadata": {},
   "outputs": [],
   "source": [
    "from pyspark.sql.window import Window"
   ]
  },
  {
   "cell_type": "code",
   "execution_count": 100,
   "id": "e90faf0d",
   "metadata": {},
   "outputs": [],
   "source": [
    "lag1Day = Window.partitionBy(\"Ticker\").orderBy(\"Date\")"
   ]
  },
  {
   "cell_type": "code",
   "execution_count": 101,
   "id": "4d697fe1",
   "metadata": {},
   "outputs": [
    {
     "name": "stdout",
     "output_type": "stream",
     "text": [
      "+------+----------+----+------------+\n",
      "|Ticker|      Date|Open|PreviousOpen|\n",
      "+------+----------+----+------------+\n",
      "|  AAPL|2018-05-31|  46|        NULL|\n",
      "|  AAPL|2018-06-01|  47|          46|\n",
      "|  AAPL|2018-06-04|  47|          47|\n",
      "|  AAPL|2018-06-05|  48|          47|\n",
      "|  AAPL|2018-06-06|  48|          48|\n",
      "|  AAPL|2018-06-07|  48|          48|\n",
      "|  AAPL|2018-06-08|  47|          48|\n",
      "|  AAPL|2018-06-11|  47|          47|\n",
      "|  AAPL|2018-06-12|  47|          47|\n",
      "|  AAPL|2018-06-13|  48|          47|\n",
      "|  AAPL|2018-06-14|  47|          48|\n",
      "|  AAPL|2018-06-15|  47|          47|\n",
      "|  AAPL|2018-06-18|  46|          47|\n",
      "|  AAPL|2018-06-19|  46|          46|\n",
      "|  AAPL|2018-06-20|  46|          46|\n",
      "|  AAPL|2018-06-21|  46|          46|\n",
      "|  AAPL|2018-06-22|  46|          46|\n",
      "|  AAPL|2018-06-25|  45|          46|\n",
      "|  AAPL|2018-06-26|  45|          45|\n",
      "|  AAPL|2018-06-27|  46|          45|\n",
      "+------+----------+----+------------+\n",
      "only showing top 20 rows\n",
      "\n"
     ]
    }
   ],
   "source": [
    "snapshot.withColumn(\"PreviousOpen\", func.lag(\"Open\", 1).over(lag1Day)).show()"
   ]
  },
  {
   "cell_type": "code",
   "execution_count": 104,
   "id": "46f20dc4",
   "metadata": {},
   "outputs": [],
   "source": [
    "## Calculate moving average\n",
    "movingAverage = Window.partitionBy(\"Ticker\").orderBy(\"Date\").rowsBetween(-50, 0)"
   ]
  },
  {
   "cell_type": "code",
   "execution_count": 105,
   "id": "f76e4e80",
   "metadata": {},
   "outputs": [
    {
     "name": "stdout",
     "output_type": "stream",
     "text": [
      "+------+----------+----+-----+\n",
      "|Ticker|      Date|Open| MA50|\n",
      "+------+----------+----+-----+\n",
      "|  AAPL|2018-05-31|  46| 46.0|\n",
      "|  AAPL|2018-06-01|  47| 46.5|\n",
      "|  AAPL|2018-06-04|  47|46.67|\n",
      "|  AAPL|2018-06-05|  48| 47.0|\n",
      "|  AAPL|2018-06-06|  48| 47.2|\n",
      "|  AAPL|2018-06-07|  48|47.33|\n",
      "|  AAPL|2018-06-08|  47|47.29|\n",
      "|  AAPL|2018-06-11|  47|47.25|\n",
      "|  AAPL|2018-06-12|  47|47.22|\n",
      "|  AAPL|2018-06-13|  48| 47.3|\n",
      "|  AAPL|2018-06-14|  47|47.27|\n",
      "|  AAPL|2018-06-15|  47|47.25|\n",
      "|  AAPL|2018-06-18|  46|47.15|\n",
      "|  AAPL|2018-06-19|  46|47.07|\n",
      "|  AAPL|2018-06-20|  46| 47.0|\n",
      "|  AAPL|2018-06-21|  46|46.94|\n",
      "|  AAPL|2018-06-22|  46|46.88|\n",
      "|  AAPL|2018-06-25|  45|46.78|\n",
      "|  AAPL|2018-06-26|  45|46.68|\n",
      "|  AAPL|2018-06-27|  46|46.65|\n",
      "+------+----------+----+-----+\n",
      "only showing top 20 rows\n",
      "\n"
     ]
    }
   ],
   "source": [
    "(snapshot.withColumn(\"MA50\", func.avg(\"Open\").over(movingAverage))\n",
    "         .withColumn(\"MA50\", func.round(\"MA50\", 2))).show()"
   ]
  },
  {
   "cell_type": "code",
   "execution_count": 106,
   "id": "ca737493",
   "metadata": {},
   "outputs": [],
   "source": [
    "maximumStock = Window.partitionBy(\"Ticker\").orderBy(snapshot.Open.desc())"
   ]
  },
  {
   "cell_type": "code",
   "execution_count": 107,
   "id": "d57a336a",
   "metadata": {},
   "outputs": [
    {
     "name": "stdout",
     "output_type": "stream",
     "text": [
      "+------+----------+----+-------+\n",
      "|Ticker|      Date|Open|MaxOpen|\n",
      "+------+----------+----+-------+\n",
      "|  AAPL|2022-01-04| 182|      1|\n",
      "|  AAPL|2021-12-13| 181|      2|\n",
      "|  AAPL|2021-12-28| 180|      3|\n",
      "|  AAPL|2022-01-05| 179|      4|\n",
      "|  AAPL|2021-12-30| 179|      5|\n",
      "|  AAPL|2021-12-29| 179|      6|\n",
      "|  AAPL|2021-12-16| 179|      7|\n",
      "|  AAPL|2022-03-30| 178|      8|\n",
      "|  AAPL|2021-12-31| 178|      9|\n",
      "|  AAPL|2023-05-31| 177|     10|\n",
      "|  AAPL|2022-04-05| 177|     11|\n",
      "|  AAPL|2022-03-31| 177|     12|\n",
      "|  AAPL|2022-01-03| 177|     13|\n",
      "|  AAPL|2021-12-27| 177|     14|\n",
      "|  AAPL|2023-05-30| 176|     15|\n",
      "|  AAPL|2023-05-19| 176|     16|\n",
      "|  AAPL|2022-03-29| 176|     17|\n",
      "|  AAPL|2022-02-09| 176|     18|\n",
      "|  AAPL|2022-01-12| 176|     19|\n",
      "|  AAPL|2022-01-13| 175|     20|\n",
      "+------+----------+----+-------+\n",
      "only showing top 20 rows\n",
      "\n"
     ]
    }
   ],
   "source": [
    "snapshot.withColumn(\"MaxOpen\", func.row_number().over(maximumStock)).show()"
   ]
  },
  {
   "cell_type": "code",
   "execution_count": 108,
   "id": "b970a872",
   "metadata": {},
   "outputs": [
    {
     "name": "stdout",
     "output_type": "stream",
     "text": [
      "+------+----------+----+-------+\n",
      "|Ticker|      Date|Open|MaxOpen|\n",
      "+------+----------+----+-------+\n",
      "|  AAPL|2022-01-04| 182|      1|\n",
      "|  AAPL|2021-12-13| 181|      2|\n",
      "|  AAPL|2021-12-28| 180|      3|\n",
      "|  AAPL|2022-01-05| 179|      4|\n",
      "|  AAPL|2021-12-30| 179|      5|\n",
      "|  AMZN|2021-07-12| 187|      1|\n",
      "|  AMZN|2021-07-09| 186|      2|\n",
      "|  AMZN|2021-11-19| 185|      3|\n",
      "|  AMZN|2021-07-14| 185|      4|\n",
      "|  AMZN|2021-07-13| 185|      5|\n",
      "| BRK-B|2022-03-29| 361|      1|\n",
      "| BRK-B|2022-03-28| 360|      2|\n",
      "| BRK-B|2022-03-31| 359|      3|\n",
      "| BRK-B|2022-03-30| 354|      4|\n",
      "| BRK-B|2022-04-01| 353|      5|\n",
      "| GOOGL|2022-02-02| 151|      1|\n",
      "| GOOGL|2021-11-22| 149|      2|\n",
      "| GOOGL|2021-11-19| 149|      3|\n",
      "| GOOGL|2021-11-09| 149|      4|\n",
      "| GOOGL|2021-11-08| 149|      5|\n",
      "+------+----------+----+-------+\n",
      "only showing top 20 rows\n",
      "\n"
     ]
    }
   ],
   "source": [
    "## Calculate top 5 highest close price for each stock in a year\n",
    "snapshot.withColumn(\"MaxOpen\", func.row_number().over(maximumStock)).filter(\"MaxOpen<=5\").show()"
   ]
  },
  {
   "cell_type": "code",
   "execution_count": 109,
   "id": "12767af9",
   "metadata": {},
   "outputs": [],
   "source": [
    "result = snapshot.withColumn(\"MaxOpen\", func.row_number().over(maximumStock)).filter(\"MaxOpen<=5\")"
   ]
  },
  {
   "cell_type": "code",
   "execution_count": 110,
   "id": "84dfc16b",
   "metadata": {},
   "outputs": [],
   "source": [
    "moving_avg = (snapshot.withColumn(\"MA50\", func.avg(\"Open\").over(movingAverage))\n",
    "         .withColumn(\"MA50\", func.round(\"MA50\", 2)))"
   ]
  },
  {
   "cell_type": "code",
   "execution_count": 112,
   "id": "a05dc2f3",
   "metadata": {},
   "outputs": [],
   "source": [
    "## SAVING DATA IN Parquet format\n",
    "(moving_avg.write.option(\"header\",True)\n",
    "             .partitionBy(\"Ticker\", \"Date\")\n",
    "             .mode(\"overwrite\")\n",
    "             .parquet(\"movingAverage_parquet\"))"
   ]
  },
  {
   "cell_type": "code",
   "execution_count": 113,
   "id": "fb754624",
   "metadata": {},
   "outputs": [],
   "source": [
    "(moving_avg.coalesce(3).write.option(\"header\",True)\n",
    "             .mode(\"overwrite\")\n",
    "             .parquet(\"movingAverage_parquet_3\"))"
   ]
  },
  {
   "cell_type": "code",
   "execution_count": 114,
   "id": "f04e8de8",
   "metadata": {},
   "outputs": [],
   "source": [
    "## CSV Format\n",
    "(result.write.option(\"header\",True)\n",
    "             .partitionBy(\"Ticker\")\n",
    "             .mode(\"overwrite\")\n",
    "             .csv(\"result_csv\"))"
   ]
  },
  {
   "cell_type": "code",
   "execution_count": null,
   "id": "1e6faca7",
   "metadata": {},
   "outputs": [],
   "source": []
  }
 ],
 "metadata": {
  "kernelspec": {
   "display_name": "Python 3 (ipykernel)",
   "language": "python",
   "name": "python3"
  },
  "language_info": {
   "codemirror_mode": {
    "name": "ipython",
    "version": 3
   },
   "file_extension": ".py",
   "mimetype": "text/x-python",
   "name": "python",
   "nbconvert_exporter": "python",
   "pygments_lexer": "ipython3",
   "version": "3.11.4"
  }
 },
 "nbformat": 4,
 "nbformat_minor": 5
}
